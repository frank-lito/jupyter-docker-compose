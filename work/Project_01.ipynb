{
 "cells": [
  {
   "cell_type": "markdown",
   "metadata": {},
   "source": [
    "# ECE 529/629 - Project 1\n",
    "\n",
    "# Name: ______________"
   ]
  },
  {
   "cell_type": "markdown",
   "metadata": {},
   "source": [
    "This project uses the Microgrid Dataset as described below. Please follow the steps in this notebook and add your code where appropriate. Please answer any questions posed in the notebook (i.e., where \"Answer:\" is printed).\n",
    "\n",
    "The project follows roughly the steps of the end-to-end machine learning project in Chapter 2 of the textbook. However, this project is designed to be simpler and to require much fewer steps and code.\n",
    "\n",
    "## Microgrid Dataset\n",
    "This dataset is from https://www.kaggle.com/jonathandumas/liege-microgrid-open-data\n",
    "\n",
    "The data have been modified to merge consumption and production data with weather data.\n",
    "\n",
    "The descriptions of weather data columns are:\n",
    "- CD = low clouds (0 to 1)\n",
    "- CM = medium clouds (0 to 1)\n",
    "- CU = high clouds (0 to 1)\n",
    "- PREC = precipitation (mm / 15 min)\n",
    "- RH2m = relative humidity (%)\n",
    "- SNOW = snow height (mm)\n",
    "- ST = Surface Temperature (°C)\n",
    "- SWD = Global Horizontal Irradiance (W/m2)\n",
    "- SWDtop = Total Solar Irradiance at the top of the atmosphere (W/m2)\n",
    "- TT2M = temperature 2 meters above the ground (°C)\n",
    "- WS100m = Wind speed at 100m from the ground (m/s)\n",
    "- WS10m =Wind speed at 10m from the ground (m/s)"
   ]
  },
  {
   "cell_type": "markdown",
   "metadata": {},
   "source": [
    "## Part 1: Loading Data"
   ]
  },
  {
   "cell_type": "markdown",
   "metadata": {},
   "source": [
    "The following contains the usual import functions."
   ]
  },
  {
   "cell_type": "code",
   "execution_count": null,
   "metadata": {},
   "outputs": [],
   "source": [
    "# Python ≥3.5 is required\n",
    "import sys\n",
    "assert sys.version_info >= (3, 5)\n",
    "\n",
    "# Scikit-Learn ≥0.20 is required\n",
    "import sklearn\n",
    "assert sklearn.__version__ >= \"0.20\"\n",
    "\n",
    "# Common imports\n",
    "import numpy as np\n",
    "import os\n",
    "\n",
    "# To plot pretty figures\n",
    "%matplotlib inline\n",
    "import matplotlib as mpl\n",
    "import matplotlib.pyplot as pltB\n",
    "mpl.rc('axes', labelsize=14)\n",
    "mpl.rc('xtick', labelsize=12)\n",
    "mpl.rc('ytick', labelsize=12)\n",
    "\n",
    "def save_fig(fig_id, tight_layout=True, fig_extension=\"png\", resolution=300):\n",
    "    path = os.path.join(\"images\", fig_id + \".\" + fig_extension)\n",
    "    print(\"Saving figure\", fig_id)\n",
    "    if tight_layout:\n",
    "        plt.tight_layout()\n",
    "    plt.savefig(path, format=fig_extension, dpi=resolution)\n",
    "\n",
    "# Ignore useless warnings (see SciPy issue #5998)\n",
    "import warnings\n",
    "warnings.filterwarnings(action=\"ignore\", message=\"^internal gelsd\")"
   ]
  },
  {
   "cell_type": "markdown",
   "metadata": {},
   "source": [
    "The data files is read and the data are stored in the table grid_data."
   ]
  },
  {
   "cell_type": "code",
   "execution_count": null,
   "metadata": {},
   "outputs": [],
   "source": [
    "import pandas as pd\n",
    "\n",
    "grid_data = pd.read_csv(os.path.join(\"datasets\",\"microgrid\",\"weather_consumption_production_clean.csv\"))\n",
    "grid_data.head()"
   ]
  },
  {
   "cell_type": "markdown",
   "metadata": {},
   "source": [
    "Print the information about each column (e.g., data type) using the .info() command."
   ]
  },
  {
   "cell_type": "code",
   "execution_count": null,
   "metadata": {},
   "outputs": [],
   "source": []
  },
  {
   "cell_type": "markdown",
   "metadata": {},
   "source": [
    "Describe any observations you notice (e.g., which columns are numerical and which columns are categorical).\n",
    "\n",
    "Answer: "
   ]
  },
  {
   "cell_type": "markdown",
   "metadata": {},
   "source": [
    "## Part 2: Preparing Data"
   ]
  },
  {
   "cell_type": "markdown",
   "metadata": {},
   "source": [
    "The following code uses the information in the time column (text) to create a new column named \"minutes,\" which contains the number of minutes since midnight (numeric value)."
   ]
  },
  {
   "cell_type": "code",
   "execution_count": null,
   "metadata": {},
   "outputs": [],
   "source": [
    "from datetime import datetime\n",
    "\n",
    "def hour_string_to_minutes(time_string):\n",
    "    pt = datetime.strptime(time_string,'%H:%M')\n",
    "    total_minutes = pt.minute + pt.hour*60\n",
    "    return total_minutes\n",
    "\n",
    "grid_data.insert(2,\"minutes\",grid_data.time.apply(hour_string_to_minutes))\n",
    "grid_data.head()"
   ]
  },
  {
   "cell_type": "markdown",
   "metadata": {},
   "source": [
    "Using a similar approach as above, create a column called \"clouds\" that represents the maximum of the CD, CM, and CU values. The new column should be placed to the right of the CU column. Print the first five rows of the table to show that you completed this task successfully."
   ]
  },
  {
   "cell_type": "code",
   "execution_count": null,
   "metadata": {},
   "outputs": [],
   "source": []
  },
  {
   "cell_type": "markdown",
   "metadata": {},
   "source": [
    "Write the code to plot a histogram of all numeric columns in grid_data."
   ]
  },
  {
   "cell_type": "code",
   "execution_count": null,
   "metadata": {},
   "outputs": [],
   "source": []
  },
  {
   "cell_type": "markdown",
   "metadata": {},
   "source": [
    "Discuss your observations about the the consumption and generation plots.\n",
    "\n",
    "Answer:\n",
    "\n",
    "Do you think that overall more power is consumed or more power is generated? Why?\n",
    "\n",
    "Answer:"
   ]
  },
  {
   "cell_type": "markdown",
   "metadata": {},
   "source": [
    "Write the code to drop columns date, time, CD, CM, CU, and SNOW."
   ]
  },
  {
   "cell_type": "code",
   "execution_count": null,
   "metadata": {},
   "outputs": [],
   "source": []
  },
  {
   "cell_type": "markdown",
   "metadata": {},
   "source": [
    "Write the code to plot a figure that shows pairwise scatter plots for each of the following features: minutes, clouds, SWD, ST, consumption, generation."
   ]
  },
  {
   "cell_type": "code",
   "execution_count": null,
   "metadata": {},
   "outputs": [],
   "source": []
  },
  {
   "cell_type": "markdown",
   "metadata": {},
   "source": [
    "Note three interesting patters or correlations:\n",
    "\n",
    "Answer 1: \n",
    "\n",
    "Answer 2: \n",
    "\n",
    "Answer 3:\n"
   ]
  },
  {
   "cell_type": "markdown",
   "metadata": {},
   "source": [
    "Split that dataset into training (80%) and test (20%) datasets. Use 42 as the initialization for the random number generator."
   ]
  },
  {
   "cell_type": "code",
   "execution_count": null,
   "metadata": {},
   "outputs": [],
   "source": []
  },
  {
   "cell_type": "markdown",
   "metadata": {},
   "source": [
    "For both the training dataset and test dataset, use the consumption column as y and all other columns, except consumption and generation, as X. You should end up with variables X_train, y_train, X_test, and y_test."
   ]
  },
  {
   "cell_type": "code",
   "execution_count": null,
   "metadata": {},
   "outputs": [],
   "source": []
  },
  {
   "cell_type": "markdown",
   "metadata": {},
   "source": [
    "Print the shape of X_train."
   ]
  },
  {
   "cell_type": "code",
   "execution_count": null,
   "metadata": {},
   "outputs": [],
   "source": []
  },
  {
   "cell_type": "markdown",
   "metadata": {},
   "source": [
    "Write the code to create a pipeline, called grid_pipeline, that applies a scaling function (StandardScaler) to the input. Use the fit_transform function to train the Scaler and apply the scaling to X_train. The scaled output should be assigned to X_train_tr."
   ]
  },
  {
   "cell_type": "code",
   "execution_count": null,
   "metadata": {},
   "outputs": [],
   "source": []
  },
  {
   "cell_type": "markdown",
   "metadata": {},
   "source": [
    "Print X_train_tr."
   ]
  },
  {
   "cell_type": "code",
   "execution_count": null,
   "metadata": {},
   "outputs": [],
   "source": []
  },
  {
   "cell_type": "markdown",
   "metadata": {},
   "source": [
    "## Part 3: Training ML Algorithms\n",
    "In this part, you will train different ML algorithms. Please give each trained model a different variable name since we will compare all models in Part 4 of this project.\n",
    "### Linear Regression"
   ]
  },
  {
   "cell_type": "markdown",
   "metadata": {},
   "source": [
    "Write the code to train a linear regression model on X_train_tr and y_train."
   ]
  },
  {
   "cell_type": "code",
   "execution_count": null,
   "metadata": {},
   "outputs": [],
   "source": []
  },
  {
   "cell_type": "markdown",
   "metadata": {},
   "source": [
    "Write the code to evaluate the accuracy of the linear regression model using the RMSE metric."
   ]
  },
  {
   "cell_type": "code",
   "execution_count": null,
   "metadata": {},
   "outputs": [],
   "source": []
  },
  {
   "cell_type": "markdown",
   "metadata": {},
   "source": [
    "What is the RMSE (in percent) for linear regression?\n",
    "\n",
    "Answer: ___%"
   ]
  },
  {
   "cell_type": "markdown",
   "metadata": {},
   "source": [
    "### Random Forest Regressor"
   ]
  },
  {
   "cell_type": "markdown",
   "metadata": {},
   "source": [
    "Write the code to train a random forest regressor on X_train_tr and y_train."
   ]
  },
  {
   "cell_type": "code",
   "execution_count": null,
   "metadata": {},
   "outputs": [],
   "source": []
  },
  {
   "cell_type": "markdown",
   "metadata": {},
   "source": [
    "Write the code to evaluate the accuracy of the random forest regressor using the RMSE metric."
   ]
  },
  {
   "cell_type": "code",
   "execution_count": null,
   "metadata": {},
   "outputs": [],
   "source": []
  },
  {
   "cell_type": "markdown",
   "metadata": {},
   "source": [
    "What is the RMSE (in percent) for the random forest regressor?\n",
    "\n",
    "Answer: ___%"
   ]
  },
  {
   "cell_type": "markdown",
   "metadata": {},
   "source": [
    "### Support Vector Machine Regressor"
   ]
  },
  {
   "cell_type": "markdown",
   "metadata": {},
   "source": [
    "Write the code to train a support vector machine regressor on X_train_tr and y_train."
   ]
  },
  {
   "cell_type": "code",
   "execution_count": null,
   "metadata": {},
   "outputs": [],
   "source": []
  },
  {
   "cell_type": "markdown",
   "metadata": {},
   "source": [
    "Write the code to evaluate the accuracy of the support vector machine regressor using the RMSE metric."
   ]
  },
  {
   "cell_type": "code",
   "execution_count": null,
   "metadata": {},
   "outputs": [],
   "source": []
  },
  {
   "cell_type": "markdown",
   "metadata": {},
   "source": [
    "What is the RMSE (in percent) for the support vector machine regressor?\n",
    "\n",
    "Answer: ___%"
   ]
  },
  {
   "cell_type": "markdown",
   "metadata": {},
   "source": [
    "### Grid Search"
   ]
  },
  {
   "cell_type": "markdown",
   "metadata": {},
   "source": [
    "Write the code to perform a grid search (using GridSearchCV) on X_train_tr and y_train. Try 12 (3×4) combinations of hyperparameters ('n_estimators': [3, 10, 30], 'max_features': [2, 4, 6, 8]), then try 6 (2×3) combinations with bootstrap set as False ('bootstrap': [False], 'n_estimators': [3, 10], 'max_features': [2, 3, 4])."
   ]
  },
  {
   "cell_type": "code",
   "execution_count": null,
   "metadata": {},
   "outputs": [],
   "source": []
  },
  {
   "cell_type": "markdown",
   "metadata": {},
   "source": [
    "Write code to identify the best set of parameters."
   ]
  },
  {
   "cell_type": "code",
   "execution_count": null,
   "metadata": {},
   "outputs": [],
   "source": []
  },
  {
   "cell_type": "markdown",
   "metadata": {},
   "source": [
    "The best parameters are:\n",
    "\n",
    "Answer: max_features = _, n_estimators = _"
   ]
  },
  {
   "cell_type": "markdown",
   "metadata": {},
   "source": [
    "Write the code to evaluate the accuracy of the grid search regressor (with the best parameters) using the RMSE metric."
   ]
  },
  {
   "cell_type": "code",
   "execution_count": null,
   "metadata": {},
   "outputs": [],
   "source": []
  },
  {
   "cell_type": "markdown",
   "metadata": {},
   "source": [
    "What is the RMSE (in percent) for the grid search with the best parameters?\n",
    "\n",
    "Answer: ___%"
   ]
  },
  {
   "cell_type": "markdown",
   "metadata": {},
   "source": [
    "### Choosing ML Algorithm\n",
    "Based on your results, which algorithm would you choose and why?\n",
    "\n",
    "Answer: Chosen algorithm: \n",
    "\n",
    "Answer: Reason: "
   ]
  },
  {
   "cell_type": "markdown",
   "metadata": {},
   "source": [
    "## Part 4: Evaluating ML Algorithms"
   ]
  },
  {
   "cell_type": "markdown",
   "metadata": {},
   "source": [
    "Write code to evaluate each trained ML algorithm on the test dataset. Determine the RMSE for each algorithm."
   ]
  },
  {
   "cell_type": "markdown",
   "metadata": {},
   "source": [
    "Prepare your test dataset input by passing it through the pipeline you created."
   ]
  },
  {
   "cell_type": "code",
   "execution_count": null,
   "metadata": {},
   "outputs": [],
   "source": []
  },
  {
   "cell_type": "markdown",
   "metadata": {},
   "source": [
    "### Linear Regression"
   ]
  },
  {
   "cell_type": "code",
   "execution_count": null,
   "metadata": {},
   "outputs": [],
   "source": []
  },
  {
   "cell_type": "markdown",
   "metadata": {},
   "source": [
    "What is the RMSE (in percent) for the test dataset?\n",
    "\n",
    "Answer: ___%"
   ]
  },
  {
   "cell_type": "markdown",
   "metadata": {},
   "source": [
    "### Random Forest Regressor"
   ]
  },
  {
   "cell_type": "code",
   "execution_count": null,
   "metadata": {},
   "outputs": [],
   "source": []
  },
  {
   "cell_type": "markdown",
   "metadata": {},
   "source": [
    "What is the RMSE (in percent) for the test dataset?\n",
    "\n",
    "Answer: ___%"
   ]
  },
  {
   "cell_type": "markdown",
   "metadata": {},
   "source": [
    "### Support Vector Machine Regressor"
   ]
  },
  {
   "cell_type": "code",
   "execution_count": null,
   "metadata": {},
   "outputs": [],
   "source": []
  },
  {
   "cell_type": "markdown",
   "metadata": {},
   "source": [
    "What is the RMSE (in percent) for the test dataset?\n",
    "\n",
    "Answer: ___%"
   ]
  },
  {
   "cell_type": "markdown",
   "metadata": {},
   "source": [
    "### Grid Search"
   ]
  },
  {
   "cell_type": "code",
   "execution_count": null,
   "metadata": {},
   "outputs": [],
   "source": []
  },
  {
   "cell_type": "markdown",
   "metadata": {},
   "source": [
    "What is the RMSE (in percent) for the test dataset?\n",
    "\n",
    "Answer: ___%"
   ]
  },
  {
   "cell_type": "markdown",
   "metadata": {},
   "source": [
    "## Part 5: Summarize Results"
   ]
  },
  {
   "cell_type": "markdown",
   "metadata": {},
   "source": [
    "Please summarize your RMSE results (in percent) in the following table."
   ]
  },
  {
   "cell_type": "markdown",
   "metadata": {},
   "source": [
    "| ML algorithm                     | training dataset | test dataset |\n",
    "| -------------------------------- | ---------------- |------------- |\n",
    "| Linear Regression                |                  |              |\n",
    "| Random Forest Regressor          |                  |              |\n",
    "| Support Vector Machine Regressor |                  |              |\n",
    "| Grid Search                      |                  |              |"
   ]
  },
  {
   "cell_type": "markdown",
   "metadata": {},
   "source": [
    "What do you observe? Is there anything that surprises you?\n",
    "\n",
    "Answer:"
   ]
  },
  {
   "cell_type": "markdown",
   "metadata": {},
   "source": [
    "## Final Check\n",
    "\n",
    "Before submitting the project, please save your notebook, restart the kernel and clear the output, and rerun the entire notebook. There should be no error messages and your results should be the same as before."
   ]
  },
  {
   "cell_type": "markdown",
   "metadata": {},
   "source": [
    "## Optional: Random Grid Search and Feature Importance\n",
    "\n",
    "This part of the project will not be graded. You may skip the rest of the project or work on it for your entertainment."
   ]
  },
  {
   "cell_type": "markdown",
   "metadata": {},
   "source": [
    "Write code to perform a random grid search (using Random Search CV and RandomForestRegressor) on the training dataset. Vary the number of estimators and the maximum number of features."
   ]
  },
  {
   "cell_type": "code",
   "execution_count": null,
   "metadata": {},
   "outputs": [],
   "source": []
  },
  {
   "cell_type": "markdown",
   "metadata": {},
   "source": [
    "Determine for which parameters you achieve the lowest RMSE on the training set."
   ]
  },
  {
   "cell_type": "code",
   "execution_count": null,
   "metadata": {},
   "outputs": [],
   "source": []
  },
  {
   "cell_type": "markdown",
   "metadata": {},
   "source": [
    "Determine the RMSE on the training set."
   ]
  },
  {
   "cell_type": "code",
   "execution_count": null,
   "metadata": {},
   "outputs": [],
   "source": []
  },
  {
   "cell_type": "markdown",
   "metadata": {},
   "source": [
    "Determine the RSME on the test set."
   ]
  },
  {
   "cell_type": "code",
   "execution_count": null,
   "metadata": {},
   "outputs": [],
   "source": []
  },
  {
   "cell_type": "markdown",
   "metadata": {},
   "source": [
    "Answer: \n",
    "\n",
    "estimators = ___ \n",
    "\n",
    "maximum features = ___ \n",
    "\n",
    "RMSE on training dataset = ___%\n",
    "\n",
    "RMSE on test dataset = ___%"
   ]
  },
  {
   "cell_type": "markdown",
   "metadata": {},
   "source": [
    "Write code to determine which feature is the most important in terms of predicting power consumption. Provide an explanation why this makes sense."
   ]
  },
  {
   "cell_type": "code",
   "execution_count": null,
   "metadata": {},
   "outputs": [],
   "source": []
  },
  {
   "cell_type": "markdown",
   "metadata": {},
   "source": [
    "Answer: \n",
    "\n",
    "Most important feature:\n",
    "\n",
    "Explanation:"
   ]
  },
  {
   "cell_type": "markdown",
   "metadata": {},
   "source": [
    "If you want to do more, feel free to repeat the entire project with *power generation* as the prediction. Please not *not* submit that as part of the project assignment. (Only submit work where *power consumption* is predicted.) "
   ]
  }
 ],
 "metadata": {
  "kernelspec": {
   "display_name": "Python 3 (ipykernel)",
   "language": "python",
   "name": "python3"
  },
  "language_info": {
   "codemirror_mode": {
    "name": "ipython",
    "version": 3
   },
   "file_extension": ".py",
   "mimetype": "text/x-python",
   "name": "python",
   "nbconvert_exporter": "python",
   "pygments_lexer": "ipython3",
   "version": "3.12.0"
  }
 },
 "nbformat": 4,
 "nbformat_minor": 4
}
